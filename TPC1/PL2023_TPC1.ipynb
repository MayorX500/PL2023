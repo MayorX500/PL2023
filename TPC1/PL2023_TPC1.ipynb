{
  "cells": [
    {
      "cell_type": "markdown",
      "metadata": {
        "id": "0JpXqXdRLYK6"
      },
      "source": [
        "# TPC1: Análise de dados: doença cardíaca\n",
        "\n",
        "Descarregue o ficheiro de dados: `myheart.csv`\n",
        "Crie um programa em Python, conjunto de funções, que responda às seguintes questões:\n",
        "* Crie uma função que lê a informação do ficheiro para um modelo, previamente pensado em memória;\n",
        "* Pense num modelo para guardar uma distribuição;\n",
        "* Crie uma função que calcula a distribuição da doença por sexo;\n",
        "* Crie uma função que calcula a distribuição da doença por escalões etários. Considere os seguintes escalões: [30-34], [35-39], [40-44], ...\n",
        "* Crie uma função que calcula a distribuição da doença por níveis de colesterol. Considere um nível igual a um intervalo de 10 unidades, comece no limite inferior e crie os níveis necessários até abranger o limite superior;\n",
        "* Crie uma função que imprime na forma de uma tabela uma distribuição;\n",
        "* Especifique um programa que ao executar apresenta as tabelas correspondentes às distribuições pedidas;\n",
        "* Extra: explore o módulo matplotlib e crie gráficos para as suas distribuições."
      ]
    },
    {
      "cell_type": "code",
      "execution_count": 1,
      "metadata": {},
      "outputs": [
        {
          "name": "stdout",
          "output_type": "stream",
          "text": [
            "+------------+------------+------------+------------+\n",
            "|   (0, 'F') |   (0, 'M') |   (1, 'F') |   (1, 'M') |\n",
            "|------------+------------+------------+------------|\n",
            "|        129 |        242 |         40 |        428 |\n",
            "+------------+------------+------------+------------+\n",
            "+---------+--------+----------+--------------+-------------+-------------+\n",
            "|   idade | sexo   |   tensão |   colesterol |   batimento |   temDoença |\n",
            "|---------+--------+----------+--------------+-------------+-------------|\n",
            "|      37 | M      |      130 |          283 |          98 |           0 |\n",
            "|      37 | M      |      140 |          207 |         130 |           1 |\n",
            "|      37 | F      |      130 |          211 |         142 |           0 |\n",
            "|      38 | M      |      110 |          196 |         166 |           1 |\n",
            "+---------+--------+----------+--------------+-------------+-------------+\n",
            "+---------+--------+----------+--------------+-------------+-------------+\n",
            "|   idade | sexo   |   tensão |   colesterol |   batimento |   temDoença |\n",
            "|---------+--------+----------+--------------+-------------+-------------|\n",
            "|      54 | M      |      150 |          195 |         122 |           0 |\n",
            "|      38 | M      |      110 |          196 |         166 |           1 |\n",
            "|      51 | F      |      160 |          194 |         170 |           0 |\n",
            "|      52 | M      |      160 |          196 |         165 |           0 |\n",
            "+---------+--------+----------+--------------+-------------+-------------+\n"
          ]
        },
        {
          "data": {
            "image/png": "[encoded data removed]",
            "text/plain": [
              "<Figure size 640x480 with 1 Axes>"
            ]
          },
          "metadata": {},
          "output_type": "display_data"
        }
      ],
      "source": [
        "# Using outside imports: pandas, tabulate\n",
        "import pandas as pd\n",
        "import tabulate as tb\n",
        "import matplotlib.pyplot as plt\n",
        "\n",
        "dataset:pd.DataFrame = None\n",
        "\n",
        "\n",
        "def load_data(path:str):\n",
        "    global dataset\n",
        "    dataset = pd.read_csv(path)\n",
        "\n",
        "def get_sickness_distribution_by_gender():\n",
        "    return [dataset.groupby(['temDoença','sexo']).size()]\n",
        "\n",
        "def get_sickness_by_age(age:tuple[int,int]):\n",
        "    age = list(range(age[0],age[1]))\n",
        "    return dataset[dataset['idade'].isin(age)]\n",
        "\n",
        "def get_sickness_by_cholesterol(cholesterol:tuple[int,int]):\n",
        "    cholesterol = list(range(cholesterol[0],cholesterol[1]))\n",
        "    return dataset[dataset['colesterol'].isin(cholesterol)]\n",
        "\n",
        "def table(df:pd.DataFrame):\n",
        "    print(tb.tabulate(df, headers='keys', tablefmt='psql',showindex=False))\n",
        "\n",
        "def plot_gender(dataset:pd.DataFrame):\n",
        "    dataset.groupby('sexo').size().plot(x='sexo',kind='bar')\n",
        "    plt.show()\n",
        "\n",
        "def main():\n",
        "    load_data(\"PL2023_TPC1.csv\")\n",
        "    #print(dataset.head(4))\n",
        "    #print(dataset.dtypes)\n",
        "    table(get_sickness_distribution_by_gender())\n",
        "    table(get_sickness_by_age((35,39)).head(4))\n",
        "    table(get_sickness_by_cholesterol((190,200)).head(4))\n",
        "    plot_gender(dataset)\n",
        "    \n",
        "\n",
        "if __name__ == \"__main__\":\n",
        "    main()"
      ]
    },
    {
      "cell_type": "code",
      "execution_count": 3,
      "metadata": {},
      "outputs": [
        {
          "name": "stdout",
          "output_type": "stream",
          "text": [
            "[{'idade': '54', 'sexo': 'M', 'tensão': '150', 'colesterol': '195', 'batimento': '122', 'temDoença': '0'}, {'idade': '38', 'sexo': 'M', 'tensão': '110', 'colesterol': '196', 'batimento': '166', 'temDoença': '1'}, {'idade': '51', 'sexo': 'F', 'tensão': '160', 'colesterol': '194', 'batimento': '170', 'temDoença': '0'}, {'idade': '52', 'sexo': 'M', 'tensão': '160', 'colesterol': '196', 'batimento': '165', 'temDoença': '0'}, {'idade': '42', 'sexo': 'M', 'tensão': '120', 'colesterol': '198', 'batimento': '155', 'temDoença': '0'}, {'idade': '54', 'sexo': 'M', 'tensão': '160', 'colesterol': '195', 'batimento': '130', 'temDoença': '0'}, {'idade': '42', 'sexo': 'M', 'tensão': '120', 'colesterol': '196', 'batimento': '150', 'temDoença': '0'}, {'idade': '37', 'sexo': 'M', 'tensão': '130', 'colesterol': '194', 'batimento': '150', 'temDoença': '0'}, {'idade': '45', 'sexo': 'M', 'tensão': '135', 'colesterol': '192', 'batimento': '110', 'temDoença': '0'}, {'idade': '62', 'sexo': 'F', 'tensão': '160', 'colesterol': '193', 'batimento': '116', 'temDoença': '0'}, {'idade': '55', 'sexo': 'M', 'tensão': '140', 'colesterol': '196', 'batimento': '150', 'temDoença': '0'}, {'idade': '48', 'sexo': 'F', 'tensão': '120', 'colesterol': '195', 'batimento': '125', 'temDoença': '0'}, {'idade': '53', 'sexo': 'M', 'tensão': '120', 'colesterol': '195', 'batimento': '140', 'temDoença': '0'}, {'idade': '39', 'sexo': 'M', 'tensão': '120', 'colesterol': '200', 'batimento': '160', 'temDoença': '0'}, {'idade': '48', 'sexo': 'M', 'tensão': '160', 'colesterol': '193', 'batimento': '102', 'temDoença': '1'}, {'idade': '54', 'sexo': 'M', 'tensão': '200', 'colesterol': '198', 'batimento': '142', 'temDoença': '1'}, {'idade': '51', 'sexo': 'F', 'tensão': '150', 'colesterol': '200', 'batimento': '120', 'temDoença': '0'}, {'idade': '47', 'sexo': 'M', 'tensão': '140', 'colesterol': '193', 'batimento': '145', 'temDoença': '1'}, {'idade': '32', 'sexo': 'F', 'tensão': '105', 'colesterol': '198', 'batimento': '165', 'temDoença': '0'}, {'idade': '58', 'sexo': 'M', 'tensão': '110', 'colesterol': '198', 'batimento': '110', 'temDoença': '1'}, {'idade': '60', 'sexo': 'M', 'tensão': '136', 'colesterol': '195', 'batimento': '126', 'temDoença': '0'}, {'idade': '68', 'sexo': 'M', 'tensão': '150', 'colesterol': '195', 'batimento': '132', 'temDoença': '1'}, {'idade': '57', 'sexo': 'M', 'tensão': '110', 'colesterol': '197', 'batimento': '100', 'temDoença': '0'}, {'idade': '70', 'sexo': 'M', 'tensão': '170', 'colesterol': '192', 'batimento': '129', 'temDoença': '1'}, {'idade': '61', 'sexo': 'M', 'tensão': '142', 'colesterol': '200', 'batimento': '100', 'temDoença': '1'}, {'idade': '64', 'sexo': 'M', 'tensão': '150', 'colesterol': '193', 'batimento': '135', 'temDoença': '1'}, {'idade': '40', 'sexo': 'M', 'tensão': '140', 'colesterol': '199', 'batimento': '178', 'temDoença': '0'}, {'idade': '50', 'sexo': 'M', 'tensão': '144', 'colesterol': '200', 'batimento': '126', 'temDoença': '1'}, {'idade': '46', 'sexo': 'M', 'tensão': '101', 'colesterol': '197', 'batimento': '156', 'temDoença': '0'}, {'idade': '44', 'sexo': 'M', 'tensão': '110', 'colesterol': '197', 'batimento': '177', 'temDoença': '1'}, {'idade': '63', 'sexo': 'F', 'tensão': '140', 'colesterol': '195', 'batimento': '179', 'temDoença': '0'}, {'idade': '41', 'sexo': 'F', 'tensão': '105', 'colesterol': '198', 'batimento': '168', 'temDoença': '0'}, {'idade': '76', 'sexo': 'F', 'tensão': '140', 'colesterol': '197', 'batimento': '116', 'temDoença': '0'}, {'idade': '39', 'sexo': 'F', 'tensão': '94', 'colesterol': '199', 'batimento': '179', 'temDoença': '0'}, {'idade': '35', 'sexo': 'M', 'tensão': '120', 'colesterol': '198', 'batimento': '130', 'temDoença': '1'}, {'idade': '52', 'sexo': 'F', 'tensão': '136', 'colesterol': '196', 'batimento': '169', 'temDoença': '0'}, {'idade': '56', 'sexo': 'M', 'tensão': '120', 'colesterol': '193', 'batimento': '162', 'temDoença': '0'}, {'idade': '53', 'sexo': 'M', 'tensão': '130', 'colesterol': '197', 'batimento': '152', 'temDoença': '0'}, {'idade': '50', 'sexo': 'M', 'tensão': '129', 'colesterol': '196', 'batimento': '163', 'temDoença': '0'}]\n"
          ]
        }
      ],
      "source": [
        "# Using only python standard library\n",
        "\n",
        "dataset:list[dict] = []\n",
        "\n",
        "def load_data(filename) -> list[dict]:\n",
        "    global dataset\n",
        "    with open(filename, 'r') as f:\n",
        "        header:list[str] = f.readline().strip().split(',')\n",
        "        for line in f:\n",
        "            line = line.strip().split(',')\n",
        "            dataset.append({header[i]: line[i] for i in range(len(header))})\n",
        "    return dataset\n",
        "\n",
        "def get_sickness_by_gender(gender:chr):\n",
        "    return [data for data in dataset if data['sexo'] == gender]\n",
        "\n",
        "def get_sickness_by_age(age:tuple[int,int]):\n",
        "    return [data for data in dataset if age[0] <= int(data['idade']) <= age[1]]\n",
        "\n",
        "def get_sickness_by_cholesterol(cholesterol:tuple[int,int]):\n",
        "    return [data for data in dataset if cholesterol[0] < int(data['colesterol']) <= cholesterol[1]]\n",
        "\n",
        "def main():\n",
        "    load_data(\"PL2023_TPC1.csv\")\n",
        "    #print(get_sickness_by_gender('M'))\n",
        "    #print(get_sickness_by_age((35,39)))\n",
        "    print(get_sickness_by_cholesterol((190,200)))\n",
        "    \n",
        "\n",
        "if __name__ == \"__main__\":\n",
        "    main()"
      ]
    },
    {
      "cell_type": "code",
      "execution_count": 7,
      "metadata": {},
      "outputs": [
        {
          "name": "stdout",
          "output_type": "stream",
          "text": [
            "[0, 5, 10, 15, 20, 25, 30, 35, 40, 45, 50, 55, 60, 65, 70, 75, 80, 85, 90, 95, 100]\n",
            "[[0, 1, 2, 3, 4], [5, 6, 7, 8, 9], [10, 11, 12, 13, 14], [15, 16, 17, 18, 19], [20, 21, 22, 23, 24], [25, 26, 27, 28, 29], [30, 31, 32, 33, 34], [35, 36, 37, 38, 39], [40, 41, 42, 43, 44], [45, 46, 47, 48, 49], [50, 51, 52, 53, 54], [55, 56, 57, 58, 59], [60, 61, 62, 63, 64], [65, 66, 67, 68, 69], [70, 71, 72, 73, 74], [75, 76, 77, 78, 79], [80, 81, 82, 83, 84], [85, 86, 87, 88, 89], [90, 91, 92, 93, 94], [95, 96, 97, 98, 99]]\n",
            "<zip object at 0x7f4de8ab1d80>\n"
          ]
        }
      ],
      "source": [
        "ranges = list(range(0,105,5))\n",
        "escaloes = []\n",
        "for i,j in zip(ranges,ranges[1:]):\n",
        "    escaloes.append(list(range(i,j)))\n",
        "print(ranges)\n",
        "print(escaloes)\n",
        "print(zip(ranges,ranges[1:]))\n",
        "\n"
      ]
    }
  ],
  "metadata": {
    "colab": {
      "provenance": []
    },
    "kernelspec": {
      "display_name": "Python 3",
      "language": "python",
      "name": "python3"
    },
    "language_info": {
      "codemirror_mode": {
        "name": "ipython",
        "version": 3
      },
      "file_extension": ".py",
      "mimetype": "text/x-python",
      "name": "python",
      "nbconvert_exporter": "python",
      "pygments_lexer": "ipython3",
      "version": "3.10.9"
    },
    "vscode": {
      "interpreter": {
        "hash": "767d51c1340bd893661ea55ea3124f6de3c7a262a8b4abca0554b478b1e2ff90"
      }
    }
  },
  "nbformat": 4,
  "nbformat_minor": 0
}
