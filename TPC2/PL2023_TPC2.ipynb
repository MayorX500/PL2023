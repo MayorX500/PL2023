{
 "cells": [
  {
   "attachments": {},
   "cell_type": "markdown",
   "metadata": {
    "dotnet_interactive": {
     "language": "csharp"
    },
    "polyglot_notebook": {
     "kernelName": "csharp"
    }
   },
   "source": [
    "# TPC2: Somador on/off\n",
    "\n",
    "Crie um programa em Python que tenha o seguinte comportamento:\n",
    "\n",
    "  * Pretende-se um programa que some todas as sequências de dígitos que encontre num texto;\n",
    "  * Prepare o programa para ler o texto do canal de entrada: stdin;\n",
    "  * Sempre que encontrar a string “Off” em qualquer combinação de maiúsculas e minúsculas, esse comportamento é desligado;\n",
    "  * Sempre que encontrar a string “On” em qualquer combinação de maiúsculas e minúsculas, esse comportamento é novamente ligado;\n",
    "  * Sempre que encontrar o caráter “=”, o resultado da soma é colocado na saída.\n"
   ]
  },
  {
   "cell_type": "code",
   "execution_count": 2,
   "metadata": {},
   "outputs": [],
   "source": [
    "# Generate Random Text for TPC2 using \"Lusiadas\" by Luís de Camões as the source text\n",
    "import random\n",
    "\n",
    "# Colors for easier visualization of the keywords\n",
    "class bcolors:\n",
    "    HEADER = '\\033[95m'\n",
    "    OKBLUE = '\\033[94m'\n",
    "    OKCYAN = '\\033[96m'\n",
    "    OKGREEN = '\\033[92m'\n",
    "    WARNING = '\\033[93m'\n",
    "    FAIL = '\\033[91m'\n",
    "    ENDC = '\\033[0m'\n",
    "    BOLD = '\\033[1m'\n",
    "    UNDERLINE = '\\033[4m'\n",
    "\n",
    "\n",
    "# Generate a list of numbers from 0 to 9999\n",
    "numbers = list(range(0, 10000))\n",
    "\n",
    "# List of keywords to be added to the text\n",
    "adds = [f\"{bcolors.OKGREEN + ' On ' + bcolors.ENDC}\",\n",
    "        f\"{bcolors.FAIL + ' Off ' + bcolors.ENDC}\",\n",
    "        [f\"{bcolors.OKBLUE + ' ' + str(number) + ' ' + bcolors.ENDC}\" for number in numbers],\n",
    "        f\"{bcolors.HEADER + ' = ' + bcolors.ENDC}\"\n",
    "        ]\n",
    "\n",
    "# Read the text from the file\n",
    "with open('text_raw.txt','r') as file:\n",
    "    text = \"\"\n",
    "    for line in file:\n",
    "        text += line.strip().replace(\",\",\"\") + \" \"\n",
    "    text = text[:-1]\n",
    "    text = text.split(' ')\n",
    "\n",
    "    # Add keywords to the text\n",
    "    for i in range(len(text)):\n",
    "        add_i = random.randint(0,3)\n",
    "        add_bol = random.randint(0,100)\n",
    "        if add_bol < 20:\n",
    "            if add_i == 2:\n",
    "                text[i] = adds[add_i][random.randint(0,len(adds[add_i])-1)]\n",
    "            else:\n",
    "                text[i] = adds[add_i]\n",
    "\n",
    "    text = \"\\n\".join(str(x) for x in text)\n",
    "\n",
    "\n",
    "    # Write the text with colors to a file\n",
    "    with open('text_with_colors.txt','w') as f:\n",
    "        f.write(text)\n",
    "\n",
    "    # Remove the colors from the text\n",
    "    text = text.replace(bcolors.ENDC, \"\").replace(bcolors.OKBLUE, \"\").replace(bcolors.OKGREEN, \"\").replace(bcolors.FAIL, \"\").replace(bcolors.HEADER, \"\")\n",
    "    \n",
    "    # Write the text without colors to a file\n",
    "    with open('text_without_colors.txt','w') as f:\n",
    "        f.write(text)\n",
    "\n",
    "\n"
   ]
  },
  {
   "cell_type": "code",
   "execution_count": 1,
   "metadata": {
    "dotnet_interactive": {
     "language": "csharp"
    },
    "polyglot_notebook": {
     "kernelName": "csharp"
    }
   },
   "outputs": [],
   "source": [
    "#!/usr/bin/env python\n",
    "# -*- coding: utf-8 -*-\n",
    "\n",
    "import re\n",
    "from dataclasses import dataclass\n",
    "\n",
    "\n",
    "# Machine class to store the state of the calculator\n",
    "@dataclass\n",
    "class Machine:\n",
    "    counting:bool\n",
    "    state:list[int]\n",
    "\n",
    "    # Methods to turn the calculator on and off\n",
    "    def turn_on(self) -> None:\n",
    "        self.counting = True\n",
    "\n",
    "    def turn_off(self) -> None:\n",
    "        self.counting = False\n",
    "\n",
    "    # Methods to add and get the state of the calculator\n",
    "    def add_state(self, state:int) -> None:\n",
    "        if self.counting:\n",
    "            self.state.append(state)\n",
    "\n",
    "    def get_state(self) -> int:\n",
    "        return sum(self.state)\n",
    "\n",
    "# Dictionary with the regex to be used\n",
    "regex:dict = {\n",
    "        \"On\":r\"\\b(on)\\b\",\n",
    "        \"Off\":r\"\\b(off)\\b\",\n",
    "        \"Number\":r\"\\b([0-9]+)\\b\",\n",
    "        \"Result\":r\"=\"\n",
    "        }\n",
    "\n",
    "\n",
    "def main():\n",
    "    calculator:Machine = Machine(False, [])\n",
    "    # Try to read the input and catch any exception\n",
    "    try:\n",
    "        # Loop to read the input\n",
    "        shutdown:bool = False\n",
    "        while not shutdown:\n",
    "            line:str = input(\"-> \")\n",
    "            #print(line)\n",
    "            if line == \"\":\n",
    "                shutdown = True\n",
    "                continue\n",
    "            line = line.split(\" \")\n",
    "            for word in line:\n",
    "                if re.search(regex[\"On\"], word, re.IGNORECASE):\n",
    "                    calculator.turn_on()\n",
    "                elif re.search(regex[\"Off\"], word, re.IGNORECASE):\n",
    "                    calculator.turn_off()\n",
    "                elif re.search(regex[\"Number\"], word, re.IGNORECASE):\n",
    "                    calculator.add_state(int(word))\n",
    "                elif re.search(regex[\"Result\"], word, re.IGNORECASE):\n",
    "                    print(f\"Current State -> {calculator.get_state()}\")\n",
    "    # If an exception is caught check if is KeyboardInterrupt or EOFError and close the program\n",
    "    except Exception as e:\n",
    "        match e:\n",
    "            case KeyboardInterrupt():\n",
    "                print(\"Terminated by user\")\n",
    "            case EOFError():\n",
    "                print(\"Shuting down, EOF Found\")\n",
    "            case _:\n",
    "                print(\"Error: \", e)\n",
    "        shutdown = True\n",
    "\n",
    "    print(f\"Final state: {calculator.get_state()}\")\n",
    "\n",
    "if __name__ == \"__main__\":\n",
    "    main()\n"
   ]
  }
 ],
 "metadata": {
  "kernelspec": {
   "display_name": "Python 3 (ipykernel)",
   "language": "python",
   "name": "python3"
  },
  "language_info": {
   "codemirror_mode": {
    "name": "ipython",
    "version": 3
   },
   "file_extension": ".py",
   "mimetype": "text/x-python",
   "name": "python",
   "nbconvert_exporter": "python",
   "pygments_lexer": "ipython3",
   "version": "3.10.9"
  },
  "polyglot_notebook": {
   "kernelInfo": {
    "defaultKernelName": "csharp",
    "items": [
     {
      "aliases": [],
      "name": "csharp"
     }
    ]
   }
  },
  "vscode": {
   "interpreter": {
    "hash": "f92b2924b84ff19c1c3dc485f7644d4486f64738191026bf8e6de303969141b5"
   }
  }
 },
 "nbformat": 4,
 "nbformat_minor": 2
}
